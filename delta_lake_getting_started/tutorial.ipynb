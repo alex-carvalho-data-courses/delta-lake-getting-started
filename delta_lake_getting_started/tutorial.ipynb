{
 "cells": [
  {
   "cell_type": "code",
   "execution_count": 75,
   "metadata": {
    "collapsed": true,
    "pycharm": {
     "name": "#%%\n"
    }
   },
   "outputs": [],
   "source": [
    "from delta import *\n",
    "from pyspark.sql import SparkSession\n",
    "from pyspark.sql import functions as f\n",
    "from pyspark.sql.types import StructType, StructField, IntegerType,StringType"
   ]
  },
  {
   "cell_type": "code",
   "execution_count": 76,
   "outputs": [],
   "source": [
    "builder = (SparkSession\n",
    "           .builder\n",
    "           .master('local[*]')\n",
    "           .appName('delta lake tutorial')\n",
    "           .config('spark.sql.extensions', 'io.delta.sql.DeltaSparkSessionExtension')\n",
    "           .config('spark.sql.catalog.spark_catalog', 'org.apache.spark.sql.delta.catalog.DeltaCatalog'))\n",
    "spark = configure_spark_with_delta_pip(builder).getOrCreate()"
   ],
   "metadata": {
    "collapsed": false,
    "pycharm": {
     "name": "#%%\n"
    }
   }
  },
  {
   "cell_type": "code",
   "execution_count": 77,
   "outputs": [
    {
     "data": {
      "text/plain": "'3.2.1'"
     },
     "execution_count": 77,
     "metadata": {},
     "output_type": "execute_result"
    }
   ],
   "source": [
    "spark.version"
   ],
   "metadata": {
    "collapsed": false,
    "pycharm": {
     "name": "#%%\n"
    }
   }
  },
  {
   "cell_type": "code",
   "execution_count": 78,
   "outputs": [
    {
     "name": "stdout",
     "output_type": "stream",
     "text": [
      "+---+-----+\n",
      "| id| name|\n",
      "+---+-----+\n",
      "|  1|  zeh|\n",
      "|  2|maneh|\n",
      "+---+-----+\n",
      "\n"
     ]
    }
   ],
   "source": [
    "schema = (StructType([\n",
    "    StructField('id', IntegerType(), False),\n",
    "    StructField('name', StringType(), False)\n",
    "]))\n",
    "data = [(1, 'zeh'), (2, 'maneh')]\n",
    "df = spark.createDataFrame(schema=schema, data=data)\n",
    "df.show()"
   ],
   "metadata": {
    "collapsed": false,
    "pycharm": {
     "name": "#%%\n"
    }
   }
  },
  {
   "cell_type": "markdown",
   "source": [
    "## Write sample DF in delta format"
   ],
   "metadata": {
    "collapsed": false,
    "pycharm": {
     "name": "#%% md\n"
    }
   }
  },
  {
   "cell_type": "code",
   "execution_count": 79,
   "outputs": [],
   "source": [
    "delta_table_path = '/tmp/delta-table'\n",
    "df.write.format('delta').save(delta_table_path)"
   ],
   "metadata": {
    "collapsed": false,
    "pycharm": {
     "name": "#%%\n"
    }
   }
  },
  {
   "cell_type": "code",
   "execution_count": 80,
   "outputs": [
    {
     "name": "stdout",
     "output_type": "stream",
     "text": [
      "+---+-----+\n",
      "| id| name|\n",
      "+---+-----+\n",
      "|  2|maneh|\n",
      "|  1|  zeh|\n",
      "+---+-----+\n",
      "\n"
     ]
    }
   ],
   "source": [
    "contact_df = spark.read.format('delta').load('/tmp/delta-table')\n",
    "contact_df.show()"
   ],
   "metadata": {
    "collapsed": false,
    "pycharm": {
     "name": "#%%\n"
    }
   }
  },
  {
   "cell_type": "markdown",
   "source": [
    "## Overwrite"
   ],
   "metadata": {
    "collapsed": false,
    "pycharm": {
     "name": "#%% md\n"
    }
   }
  },
  {
   "cell_type": "code",
   "execution_count": 81,
   "outputs": [
    {
     "name": "stdout",
     "output_type": "stream",
     "text": [
      "+---+----+\n",
      "| id|name|\n",
      "+---+----+\n",
      "|  3|john|\n",
      "|  4| doe|\n",
      "+---+----+\n",
      "\n"
     ]
    }
   ],
   "source": [
    "new_data = [(3, 'john'), (4, 'doe')]\n",
    "new_contact_df = spark.createDataFrame(schema=schema, data=new_data)\n",
    "new_contact_df.show()"
   ],
   "metadata": {
    "collapsed": false,
    "pycharm": {
     "name": "#%%\n"
    }
   }
  },
  {
   "cell_type": "code",
   "execution_count": 82,
   "outputs": [],
   "source": [
    "new_contact_df.write.format('delta').mode('overwrite').save(delta_table_path)"
   ],
   "metadata": {
    "collapsed": false,
    "pycharm": {
     "name": "#%%\n"
    }
   }
  },
  {
   "cell_type": "code",
   "execution_count": 83,
   "outputs": [
    {
     "name": "stdout",
     "output_type": "stream",
     "text": [
      "+---+----+\n",
      "| id|name|\n",
      "+---+----+\n",
      "|  3|john|\n",
      "|  4| doe|\n",
      "+---+----+\n",
      "\n"
     ]
    }
   ],
   "source": [
    "contact_df = spark.read.format('delta').load('/tmp/delta-table')\n",
    "contact_df.show()"
   ],
   "metadata": {
    "collapsed": false,
    "pycharm": {
     "name": "#%%\n"
    }
   }
  },
  {
   "cell_type": "markdown",
   "source": [
    "## Conditional update without overwrite"
   ],
   "metadata": {
    "collapsed": false,
    "pycharm": {
     "name": "#%% md\n"
    }
   }
  },
  {
   "cell_type": "code",
   "execution_count": 84,
   "outputs": [
    {
     "name": "stdout",
     "output_type": "stream",
     "text": [
      "+---+----+\n",
      "| id|name|\n",
      "+---+----+\n",
      "|  3|john|\n",
      "|  4| doe|\n",
      "+---+----+\n",
      "\n"
     ]
    }
   ],
   "source": [
    "delta_table = DeltaTable.forPath(spark, delta_table_path)\n",
    "delta_table.toDF().show()"
   ],
   "metadata": {
    "collapsed": false,
    "pycharm": {
     "name": "#%%\n"
    }
   }
  },
  {
   "cell_type": "markdown",
   "source": [
    "### Update every even value by adding 100 to it"
   ],
   "metadata": {
    "collapsed": false,
    "pycharm": {
     "name": "#%% md\n"
    }
   }
  },
  {
   "cell_type": "code",
   "execution_count": 85,
   "outputs": [
    {
     "name": "stdout",
     "output_type": "stream",
     "text": [
      "+---+----+\n",
      "| id|name|\n",
      "+---+----+\n",
      "|  3|john|\n",
      "|104| doe|\n",
      "+---+----+\n",
      "\n"
     ]
    }
   ],
   "source": [
    "delta_table.update(condition=f.expr('id % 2 == 0'), set = {'id': f.expr('id + 100')})\n",
    "delta_table.toDF().show()"
   ],
   "metadata": {
    "collapsed": false,
    "pycharm": {
     "name": "#%%\n"
    }
   }
  },
  {
   "cell_type": "markdown",
   "source": [
    "### Delete every even value"
   ],
   "metadata": {
    "collapsed": false,
    "pycharm": {
     "name": "#%% md\n"
    }
   }
  },
  {
   "cell_type": "code",
   "execution_count": 86,
   "outputs": [
    {
     "name": "stdout",
     "output_type": "stream",
     "text": [
      "+---+----+\n",
      "| id|name|\n",
      "+---+----+\n",
      "|  3|john|\n",
      "+---+----+\n",
      "\n"
     ]
    }
   ],
   "source": [
    "delta_table.delete(condition=f.expr('id % 2 == 0'))\n",
    "delta_table.toDF().show()"
   ],
   "metadata": {
    "collapsed": false,
    "pycharm": {
     "name": "#%%\n"
    }
   }
  },
  {
   "cell_type": "markdown",
   "source": [
    "### Upsert (merge) new data"
   ],
   "metadata": {
    "collapsed": false,
    "pycharm": {
     "name": "#%% md\n"
    }
   }
  },
  {
   "cell_type": "code",
   "execution_count": 88,
   "outputs": [
    {
     "name": "stdout",
     "output_type": "stream",
     "text": [
      "+---+--------------+\n",
      "| id|          name|\n",
      "+---+--------------+\n",
      "|  1|        stevie|\n",
      "|  2|        wonder|\n",
      "|  3|        arnold|\n",
      "|  4|schwarzenegger|\n",
      "|  5|      somebody|\n",
      "+---+--------------+\n",
      "\n"
     ]
    }
   ],
   "source": [
    "more_data = [\n",
    "    (1, 'stevie'), (2, 'wonder'), (3, 'arnold'), (4, 'schwarzenegger'), (5, 'somebody')\n",
    "]\n",
    "more_contact_df = spark.createDataFrame(schema=schema, data=more_data)\n",
    "more_contact_df.show()"
   ],
   "metadata": {
    "collapsed": false,
    "pycharm": {
     "name": "#%%\n"
    }
   }
  },
  {
   "cell_type": "code",
   "execution_count": 89,
   "outputs": [
    {
     "name": "stdout",
     "output_type": "stream",
     "text": [
      "+---+--------------+\n",
      "| id|          name|\n",
      "+---+--------------+\n",
      "|  1|        stevie|\n",
      "|  2|        wonder|\n",
      "|  3|        arnold|\n",
      "|  4|schwarzenegger|\n",
      "|  5|      somebody|\n",
      "+---+--------------+\n",
      "\n"
     ]
    }
   ],
   "source": [
    "(delta_table.alias('old_data')\n",
    " .merge(more_contact_df.alias('new_data'), 'old_data.id == new_data.id')\n",
    " .whenMatchedUpdate(set={'name': f.col('new_data.name')})\n",
    " .whenNotMatchedInsert(values={'id': f.col('new_data.id'), 'name': f.col('new_data.name')})\n",
    " .execute())\n",
    "delta_table.toDF().show()"
   ],
   "metadata": {
    "collapsed": false,
    "pycharm": {
     "name": "#%%\n"
    }
   }
  },
  {
   "cell_type": "markdown",
   "source": [
    "## Reading versions of data using time travel"
   ],
   "metadata": {
    "collapsed": false,
    "pycharm": {
     "name": "#%% md\n"
    }
   }
  },
  {
   "cell_type": "code",
   "execution_count": 97,
   "outputs": [
    {
     "name": "stdout",
     "output_type": "stream",
     "text": [
      "+---+-----+\n",
      "| id| name|\n",
      "+---+-----+\n",
      "|  2|maneh|\n",
      "|  1|  zeh|\n",
      "+---+-----+\n",
      "\n",
      "+---+----+\n",
      "| id|name|\n",
      "+---+----+\n",
      "|  3|john|\n",
      "|  4| doe|\n",
      "+---+----+\n",
      "\n",
      "+---+----+\n",
      "| id|name|\n",
      "+---+----+\n",
      "|  3|john|\n",
      "|104| doe|\n",
      "+---+----+\n",
      "\n",
      "+---+----+\n",
      "| id|name|\n",
      "+---+----+\n",
      "|  3|john|\n",
      "+---+----+\n",
      "\n",
      "+---+--------------+\n",
      "| id|          name|\n",
      "+---+--------------+\n",
      "|  1|        stevie|\n",
      "|  2|        wonder|\n",
      "|  3|        arnold|\n",
      "|  4|schwarzenegger|\n",
      "|  5|      somebody|\n",
      "+---+--------------+\n",
      "\n"
     ]
    }
   ],
   "source": [
    "for i in range(0, 5):\n",
    "    time_machine_df = (spark.read\n",
    "                       .format('delta')\n",
    "                       .option('versionAsOf', i)\n",
    "                       .load(delta_table_path))\n",
    "    time_machine_df.show()"
   ],
   "metadata": {
    "collapsed": false,
    "pycharm": {
     "name": "#%%\n"
    }
   }
  },
  {
   "cell_type": "code",
   "execution_count": 98,
   "outputs": [],
   "source": [
    "spark.stop()"
   ],
   "metadata": {
    "collapsed": false,
    "pycharm": {
     "name": "#%%\n"
    }
   }
  }
 ],
 "metadata": {
  "kernelspec": {
   "display_name": "Python 3",
   "language": "python",
   "name": "python3"
  },
  "language_info": {
   "codemirror_mode": {
    "name": "ipython",
    "version": 2
   },
   "file_extension": ".py",
   "mimetype": "text/x-python",
   "name": "python",
   "nbconvert_exporter": "python",
   "pygments_lexer": "ipython2",
   "version": "2.7.6"
  }
 },
 "nbformat": 4,
 "nbformat_minor": 0
}